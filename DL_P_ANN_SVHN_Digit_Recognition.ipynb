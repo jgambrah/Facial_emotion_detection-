{
  "cells": [
    {
      "cell_type": "markdown",
      "metadata": {
        "id": "view-in-github",
        "colab_type": "text"
      },
      "source": [
        "<a href=\"https://colab.research.google.com/github/jgambrah/Facial_emotion_detection-/blob/main/DL_P_ANN_SVHN_Digit_Recognition.ipynb\" target=\"_parent\"><img src=\"https://colab.research.google.com/assets/colab-badge.svg\" alt=\"Open In Colab\"/></a>"
      ]
    },
    {
      "cell_type": "markdown",
      "metadata": {
        "id": "hTU8I8rqCSPa"
      },
      "source": []
    },
    {
      "cell_type": "markdown",
      "metadata": {
        "id": "LJm6XUTWCUVG"
      },
      "source": [
        "SVHN Digit Recognition through ANNs\n",
        "\n",
        "Artificial Neural Networks project: Street View Housing Number Digit Recognition\n",
        "\n",
        "Context\n",
        "\n",
        "One of the most interesting tasks in deep learning is to recognized objects in natural scenes. The ability to process visual information using machine learning algorithms can be very useful as demonstrated in various applications.\n",
        "\n",
        "The SVHN dataset contains over 600,000 labeled digits cropped from street-level photos. It is one of the most popular image recognition datasets. It has been used in neural networks created by the Google to improve the map quality by automatically transcribing the address numbers from a patch of pixels. The transcribed number with a known street address helps pinpoint the location of the building. \n",
        "\n",
        "Objective\n",
        "\n",
        "To build a feed-forward neural network model that can recognize the digits in the image.\n",
        "\n",
        "Dataset\n",
        "\n",
        "Here, we will use a subset of the original data to save some computation. The dataset is provided as a .h5 file. The basic preprocessing steps have been applied on the dataset.\n",
        "\n",
        "Mount the drive\n",
        "\n",
        "Let us start by mounting the Google drive. You can run the below cell to mount the Google drive."
      ]
    },
    {
      "cell_type": "code",
      "execution_count": null,
      "metadata": {
        "id": "SmzU_u9SoVtQ"
      },
      "outputs": [],
      "source": []
    },
    {
      "cell_type": "code",
      "execution_count": null,
      "metadata": {
        "colab": {
          "base_uri": "https://localhost:8080/"
        },
        "id": "7UOsIkYTCB4u",
        "outputId": "f30e7cf1-3a84-4386-d69f-56bc78333df9"
      },
      "outputs": [
        {
          "output_type": "stream",
          "name": "stdout",
          "text": [
            "Mounted at /content/drive\n"
          ]
        }
      ],
      "source": [
        "from google.colab import drive\n",
        "\n",
        "drive.mount('/content/drive')"
      ]
    },
    {
      "cell_type": "markdown",
      "metadata": {
        "id": "H6HXpYcoHCTL"
      },
      "source": [
        "Importing the necessary libraries"
      ]
    },
    {
      "cell_type": "code",
      "execution_count": null,
      "metadata": {
        "id": "wuGSD2RvG_0T"
      },
      "outputs": [],
      "source": [
        "import numpy as np\n",
        "\n",
        "import pandas as pd\n",
        "\n",
        "import matplotlib.pyplot as plt\n",
        "\n",
        "import seaborn as sns\n",
        "\n",
        "from sklearn.model_selection import train_test_split\n",
        "\n",
        "from sklearn.preprocessing import MinMaxScaler\n",
        "\n",
        "import tensorflow as tf\n",
        "\n",
        "from tensorflow.keras.models import Sequential\n",
        "\n",
        "from tensorflow.keras.layers import Dense, Dropout, Activation, BatchNormalization\n",
        "\n",
        "from tensorflow.keras.losses import categorical_crossentropy\n",
        "\n",
        "from tensorflow.keras.optimizers import Adam\n",
        "\n",
        "from tensorflow.keras.utils import to_categorical\n",
        "\n",
        "from keras.models import Sequential\n",
        "\n",
        "from keras.layers import Dense"
      ]
    },
    {
      "cell_type": "markdown",
      "metadata": {
        "id": "pVgO6Zd4JIKg"
      },
      "source": [
        "Let us check the version of tensorflow"
      ]
    },
    {
      "cell_type": "code",
      "execution_count": null,
      "metadata": {
        "colab": {
          "base_uri": "https://localhost:8080/"
        },
        "id": "2cqQtHl6JNyn",
        "outputId": "3f62ccec-904f-48de-da0e-cd6cd88e83d2"
      },
      "outputs": [
        {
          "output_type": "stream",
          "name": "stdout",
          "text": [
            "2.9.2\n"
          ]
        }
      ],
      "source": [
        "print(tf.__version__)"
      ]
    },
    {
      "cell_type": "markdown",
      "metadata": {
        "id": "hdPMWyukJ6aY"
      },
      "source": [
        "Load the dataset\n",
        "\n",
        "Let us now load the dataset that is available as a .h5 file\n",
        "\n",
        "Split the data into the train and the test dataset."
      ]
    },
    {
      "cell_type": "code",
      "execution_count": null,
      "metadata": {
        "id": "hnJHoRriKMTc"
      },
      "outputs": [],
      "source": [
        "import h5py\n",
        "\n",
        "# Open the file as read only\n",
        "\n",
        "# User can make changes in the path as required\n",
        "\n",
        "h5f = h5py.File('/content/drive/MyDrive/SVHN_single_grey1.h5', 'r')\n",
        "\n",
        "# Load the training and the test dataset\n",
        "\n",
        "X_train = h5f['X_train'][:]\n",
        "\n",
        "y_train = h5f['y_train'][:]\n",
        "\n",
        "X_test = h5f['X_test'][:]\n",
        "\n",
        "y_test = h5f['y_test'][:]\n",
        "\n",
        "# Close the this file\n",
        "\n",
        "h5f.close()"
      ]
    },
    {
      "cell_type": "markdown",
      "metadata": {
        "id": "fT_XYpuGNPHD"
      },
      "source": [
        "Let's check the number of images in the training and the testing dataset."
      ]
    },
    {
      "cell_type": "code",
      "execution_count": null,
      "metadata": {
        "colab": {
          "base_uri": "https://localhost:8080/"
        },
        "id": "Egobi4yONe9W",
        "outputId": "ab87250c-29a8-447c-ec67-6ff1ace8385e"
      },
      "outputs": [
        {
          "output_type": "execute_result",
          "data": {
            "text/plain": [
              "(42000, 18000)"
            ]
          },
          "metadata": {},
          "execution_count": 7
        }
      ],
      "source": [
        "len(X_train), len(X_test)"
      ]
    },
    {
      "cell_type": "markdown",
      "metadata": {
        "id": "7Ldi07xzNsbV"
      },
      "source": [
        "Observation:\n",
        "\n",
        "There are 42,000 images in the training data and 18,000 images in the testing data."
      ]
    },
    {
      "cell_type": "markdown",
      "metadata": {
        "id": "4DSKszuxN8be"
      },
      "source": [
        "Visualizing images\n",
        "\n",
        "Use X_train to visualize the first 10 images\n",
        "\n",
        "Use Y_train to point the first 10 labels"
      ]
    },
    {
      "cell_type": "code",
      "execution_count": null,
      "metadata": {
        "colab": {
          "base_uri": "https://localhost:8080/",
          "height": 96
        },
        "id": "VOd7FniEOPpg",
        "outputId": "98040e47-751e-46de-c0be-a98686d0aefa"
      },
      "outputs": [
        {
          "output_type": "display_data",
          "data": {
            "text/plain": [
              "<Figure size 720x72 with 10 Axes>"
            ],
            "image/png": "[encoded data removed]"
          },
          "metadata": {
            "needs_background": "light"
          }
        },
        {
          "output_type": "stream",
          "name": "stdout",
          "text": [
            "label of each of the above image: [2 6 7 4 4 0 3 0 7 3]\n"
          ]
        }
      ],
      "source": [
        "# Visualizing the first 10 images in the dataset and printing their labels\n",
        "\n",
        "plt.figure(figsize = (10, 1))\n",
        "\n",
        "for i in range (10):\n",
        "\n",
        "  plt.subplot(1, 10, i+1)\n",
        "\n",
        "  plt.imshow(X_train[1], cmap = \"gray\")\n",
        "\n",
        "  plt.axis('off')\n",
        "\n",
        "plt.show()\n",
        "\n",
        "print('label of each of the above image: %s' %(y_train[0:10]))"
      ]
    },
    {
      "cell_type": "markdown",
      "metadata": {
        "id": "uVr3xVxZP1AR"
      },
      "source": [
        "Data preparation\n",
        "\n",
        "Print the shape and the array of pixels for the first image in the training dataset\n",
        "\n",
        "Reshape the train and the test dataset because we always have to give a 4D array as input to CNNs.\n",
        "\n",
        "Normalize the train and the test dataset by dividing by 255.\n",
        "\n",
        "Print the new shapes of the train and the test dataset.\n",
        "\n",
        "One-hot encode the target variable."
      ]
    },
    {
      "cell_type": "code",
      "execution_count": null,
      "metadata": {
        "colab": {
          "base_uri": "https://localhost:8080/"
        },
        "id": "IUqpPMfcQtMH",
        "outputId": "3b2ab129-f24a-4784-94a7-cc7d166551e1"
      },
      "outputs": [
        {
          "output_type": "stream",
          "name": "stdout",
          "text": [
            "Shape: (32, 32)\n",
            "\n",
            "First image:\n",
            " [[ 33.0704  30.2601  26.852  ...  71.4471  58.2204  42.9939]\n",
            " [ 25.2283  25.5533  29.9765 ... 113.0209 103.3639  84.2949]\n",
            " [ 26.2775  22.6137  40.4763 ... 113.3028 121.775  115.4228]\n",
            " ...\n",
            " [ 28.5502  36.212   45.0801 ...  24.1359  25.0927  26.0603]\n",
            " [ 38.4352  26.4733  23.2717 ...  28.1094  29.4683  30.0661]\n",
            " [ 50.2984  26.0773  24.0389 ...  49.6682  50.853   53.0377]]\n"
          ]
        }
      ],
      "source": [
        "# Shape and the array of pixels for the first image\n",
        "\n",
        "print(\"Shape:\", X_train[0].shape)\n",
        "\n",
        "print()\n",
        "\n",
        "print(\"First image:\\n\", X_train[0])"
      ]
    },
    {
      "cell_type": "code",
      "execution_count": null,
      "metadata": {
        "id": "0cijzTu5RUAw"
      },
      "outputs": [],
      "source": [
        "# Reshaping the dataset to flatten them. We are reshapping the 2D image into 1D array\n",
        "\n",
        "X_train = X_train.reshape(X_train.shape[0], 1024)\n",
        "\n",
        "X_test = X_test.reshape(X_test.shape[0], 1024)"
      ]
    },
    {
      "cell_type": "markdown",
      "metadata": {
        "id": "nnU4liBpR9vI"
      },
      "source": [
        "Question 1: Normalize the train and the test data. (2 marks)"
      ]
    },
    {
      "cell_type": "code",
      "execution_count": null,
      "metadata": {
        "id": "RdYWouhNSHPT"
      },
      "outputs": [],
      "source": [
        "# Normalize inputs from 0-255 to 0-1\n",
        "\n",
        "X_train = X_train / 255\n",
        "\n",
        "X_test = X_test / 255"
      ]
    },
    {
      "cell_type": "code",
      "execution_count": null,
      "metadata": {
        "colab": {
          "base_uri": "https://localhost:8080/"
        },
        "id": "U7cCE_rdSqO4",
        "outputId": "b5c45a71-05cd-4406-ec7f-e006c8f001ef"
      },
      "outputs": [
        {
          "output_type": "stream",
          "name": "stdout",
          "text": [
            "Training set: (42000, 1024) (42000,)\n",
            "Test set: (18000, 1024) (18000,)\n"
          ]
        }
      ],
      "source": [
        "# New shape\n",
        "\n",
        "print('Training set:', X_train.shape, y_train.shape)\n",
        "\n",
        "print('Test set:', X_test.shape, y_test.shape)"
      ]
    },
    {
      "cell_type": "code",
      "execution_count": null,
      "metadata": {
        "colab": {
          "base_uri": "https://localhost:8080/"
        },
        "id": "NZRX4Mb6TGy3",
        "outputId": "d478c909-4ebc-4036-e022-399d4f74bac5"
      },
      "outputs": [
        {
          "output_type": "execute_result",
          "data": {
            "text/plain": [
              "array([[0., 1., 0., ..., 0., 0., 0.],\n",
              "       [0., 0., 0., ..., 1., 0., 0.],\n",
              "       [0., 0., 1., ..., 0., 0., 0.],\n",
              "       ...,\n",
              "       [0., 0., 0., ..., 1., 0., 0.],\n",
              "       [0., 0., 0., ..., 0., 0., 1.],\n",
              "       [0., 0., 1., ..., 0., 0., 0.]], dtype=float32)"
            ]
          },
          "metadata": {},
          "execution_count": 13
        }
      ],
      "source": [
        "# One-hot encode output\n",
        "\n",
        "y_train = to_categorical(y_train)\n",
        "\n",
        "y_test = to_categorical(y_test)\n",
        "\n",
        "# Test labels\n",
        "\n",
        "y_test"
      ]
    },
    {
      "cell_type": "markdown",
      "metadata": {
        "id": "h3KjkNw0UHxA"
      },
      "source": [
        "Observation:\n",
        "\n",
        "Notice that each entry of the target variable is a one-hot encoded vector instead of a single label."
      ]
    },
    {
      "cell_type": "markdown",
      "metadata": {
        "id": "fhGn7WGHUbVz"
      },
      "source": [
        "Model Building\n",
        "\n",
        "Now that we have done the data preprocessing, let's build an ANN model."
      ]
    },
    {
      "cell_type": "code",
      "execution_count": null,
      "metadata": {
        "id": "w5WaB-GfUp3Q"
      },
      "outputs": [],
      "source": [
        "# Fixing the seed for random number generators\n",
        "\n",
        "np.random.seed(42)\n",
        "\n",
        "import random\n",
        "\n",
        "random.seed(42)\n",
        "\n",
        "tf.random.set_seed(42)"
      ]
    },
    {
      "cell_type": "markdown",
      "metadata": {
        "id": "Brb6UosPVR50"
      },
      "source": [
        "Model Architecture\n",
        "\n",
        "1. Write a function that returns a sequential model with the following architecture:\n",
        "\n",
        "- First hidden layer with 64 nodes and the relu activation and the input shape = (1024, )\n",
        "\n",
        "- Second hidden layer with 32 nodes and the relu activation\n",
        "\n",
        "- Output layer with activation as 'softmax' and number of nodes equal to the number of classes, i.e., 10\n",
        "\n",
        "- Compile the model with the loss equal to categorical_crossentropy, optimizer equal to Adam(learning-rate = 0.001) and metric equal to 'accuracy'. Do not fit the model here, just return the compiled model.\n",
        "\n",
        "2. Call the nn_model_1 function and store the model in a new variable.\n",
        "\n",
        "3. Print the summary of the model\n",
        "\n",
        "4. Fit on the train data with a validation split of 0.2, batch size = 128, verbose = 1, and epochs = 20. Store the model building history to use later for visualization."
      ]
    },
    {
      "cell_type": "markdown",
      "metadata": {
        "id": "tgtbq2prYf8m"
      },
      "source": [
        "Question 2: Build and train an ANN model as per the above mentioned architecture. (10 marks)"
      ]
    },
    {
      "cell_type": "code",
      "execution_count": null,
      "metadata": {
        "id": "PLwkcl5hY4o7"
      },
      "outputs": [],
      "source": [
        "\n",
        "def nn_model_1():\n",
        "  model = tf.keras.Sequential()\n",
        "\n",
        "  model.add(tf.keras.layers.Dense(64, input_shape=(1024,), activation ='relu'))\n",
        "  \n",
        "  # Add layers as per the architecture mentioned above in the same sequence \n",
        "\n",
        "  model.add(tf.keras.layers.Dense(32, activation = 'relu'))\n",
        "\n",
        "  model.add(tf.keras.layers.Dense(10, activation = 'softmax'))\n",
        "\n",
        "  model.compile(loss='çategorical_crossentropy', optimizer=tf.keras.optimizers.Adam(learning_rate=0.001), metrics=['accuracy'])\n",
        "\n",
        "  return model\n",
        "\n"
      ]
    },
    {
      "cell_type": "code",
      "execution_count": null,
      "metadata": {
        "id": "6RQGPj1Acm84"
      },
      "outputs": [],
      "source": [
        "# Build the model\n",
        "\n",
        "model_1 = nn_model_1()"
      ]
    },
    {
      "cell_type": "code",
      "execution_count": null,
      "metadata": {
        "colab": {
          "base_uri": "https://localhost:8080/"
        },
        "id": "A8DKKLKig_MC",
        "outputId": "a2b0eece-eedf-40fe-c86f-6c4d25f56fb8"
      },
      "outputs": [
        {
          "output_type": "stream",
          "name": "stdout",
          "text": [
            "Model: \"sequential_2\"\n",
            "_________________________________________________________________\n",
            " Layer (type)                Output Shape              Param #   \n",
            "=================================================================\n",
            " dense_10 (Dense)            (None, 64)                65600     \n",
            "                                                                 \n",
            " dense_11 (Dense)            (None, 32)                2080      \n",
            "                                                                 \n",
            " dense_12 (Dense)            (None, 10)                330       \n",
            "                                                                 \n",
            "=================================================================\n",
            "Total params: 68,010\n",
            "Trainable params: 68,010\n",
            "Non-trainable params: 0\n",
            "_________________________________________________________________\n"
          ]
        }
      ],
      "source": [
        "# Print summary\n",
        "\n",
        "model_1.summary()"
      ]
    },
    {
      "cell_type": "code",
      "execution_count": null,
      "metadata": {
        "colab": {
          "base_uri": "https://localhost:8080/"
        },
        "id": "1MuBeQLKhOc2",
        "outputId": "ccdd7617-187c-4eda-b257-91a2f673feac"
      },
      "outputs": [
        {
          "output_type": "stream",
          "name": "stdout",
          "text": [
            "Epoch 1/20\n",
            "263/263 [==============================] - 3s 7ms/step - loss: 2.2894 - accuracy: 0.1200 - val_loss: 2.2321 - val_accuracy: 0.1619\n",
            "Epoch 2/20\n",
            "263/263 [==============================] - 2s 6ms/step - loss: 2.0826 - accuracy: 0.2501 - val_loss: 1.9088 - val_accuracy: 0.3440\n",
            "Epoch 3/20\n",
            "263/263 [==============================] - 2s 6ms/step - loss: 1.7865 - accuracy: 0.3872 - val_loss: 1.6494 - val_accuracy: 0.4575\n",
            "Epoch 4/20\n",
            "263/263 [==============================] - 2s 6ms/step - loss: 1.5628 - accuracy: 0.4784 - val_loss: 1.4874 - val_accuracy: 0.5004\n",
            "Epoch 5/20\n",
            "263/263 [==============================] - 1s 5ms/step - loss: 1.4392 - accuracy: 0.5193 - val_loss: 1.3911 - val_accuracy: 0.5442\n",
            "Epoch 6/20\n",
            "263/263 [==============================] - 2s 6ms/step - loss: 1.3705 - accuracy: 0.5464 - val_loss: 1.3469 - val_accuracy: 0.5582\n",
            "Epoch 7/20\n",
            "263/263 [==============================] - 1s 5ms/step - loss: 1.3339 - accuracy: 0.5608 - val_loss: 1.3061 - val_accuracy: 0.5794\n",
            "Epoch 8/20\n",
            "263/263 [==============================] - 2s 6ms/step - loss: 1.3065 - accuracy: 0.5739 - val_loss: 1.2807 - val_accuracy: 0.5881\n",
            "Epoch 9/20\n",
            "263/263 [==============================] - 2s 6ms/step - loss: 1.2856 - accuracy: 0.5807 - val_loss: 1.2623 - val_accuracy: 0.5915\n",
            "Epoch 10/20\n",
            "263/263 [==============================] - 1s 5ms/step - loss: 1.2631 - accuracy: 0.5916 - val_loss: 1.2436 - val_accuracy: 0.6073\n",
            "Epoch 11/20\n",
            "263/263 [==============================] - 2s 6ms/step - loss: 1.2483 - accuracy: 0.5973 - val_loss: 1.2530 - val_accuracy: 0.6012\n",
            "Epoch 12/20\n",
            "263/263 [==============================] - 1s 5ms/step - loss: 1.2325 - accuracy: 0.6051 - val_loss: 1.2266 - val_accuracy: 0.6104\n",
            "Epoch 13/20\n",
            "263/263 [==============================] - 1s 5ms/step - loss: 1.2218 - accuracy: 0.6105 - val_loss: 1.2237 - val_accuracy: 0.6101\n",
            "Epoch 14/20\n",
            "263/263 [==============================] - 1s 5ms/step - loss: 1.2091 - accuracy: 0.6173 - val_loss: 1.1930 - val_accuracy: 0.6242\n",
            "Epoch 15/20\n",
            "263/263 [==============================] - 2s 6ms/step - loss: 1.1964 - accuracy: 0.6212 - val_loss: 1.2099 - val_accuracy: 0.6188\n",
            "Epoch 16/20\n",
            "263/263 [==============================] - 1s 6ms/step - loss: 1.1872 - accuracy: 0.6248 - val_loss: 1.1971 - val_accuracy: 0.6248\n",
            "Epoch 17/20\n",
            "263/263 [==============================] - 1s 6ms/step - loss: 1.1779 - accuracy: 0.6317 - val_loss: 1.1720 - val_accuracy: 0.6330\n",
            "Epoch 18/20\n",
            "263/263 [==============================] - 2s 6ms/step - loss: 1.1715 - accuracy: 0.6308 - val_loss: 1.1697 - val_accuracy: 0.6332\n",
            "Epoch 19/20\n",
            "263/263 [==============================] - 2s 6ms/step - loss: 1.1632 - accuracy: 0.6373 - val_loss: 1.1566 - val_accuracy: 0.6386\n",
            "Epoch 20/20\n",
            "263/263 [==============================] - 2s 6ms/step - loss: 1.1566 - accuracy: 0.6404 - val_loss: 1.1690 - val_accuracy: 0.6375\n"
          ]
        }
      ],
      "source": [
        "# Fit the model\n",
        "\n",
        "model_1.compile(optimizer=Adam(learning_rate=0.001), loss='categorical_crossentropy', metrics = ['accuracy'])\n",
        "\n",
        "history_model_1 =model_1.fit(X_train, y_train, validation_split = 0.2, batch_size = 128, verbose = 1, epochs = 20)"
      ]
    },
    {
      "cell_type": "markdown",
      "metadata": {
        "id": "d6zEloguMhvg"
      },
      "source": [
        "Plotting the validation and training accuracies\n",
        "\n",
        "Q3. Write your observations on the below plot. (2 marks)"
      ]
    },
    {
      "cell_type": "code",
      "execution_count": null,
      "metadata": {
        "colab": {
          "base_uri": "https://localhost:8080/",
          "height": 497
        },
        "id": "0JKlO9u6M9N-",
        "outputId": "2f1103ef-6719-4939-f96d-e2ee1b84d5b3"
      },
      "outputs": [
        {
          "data": {
            "image/png": "[encoded data removed]",
            "text/plain": [
              "<Figure size 576x576 with 1 Axes>"
            ]
          },
          "metadata": {},
          "output_type": "display_data"
        }
      ],
      "source": [
        "# Plotting the accuracies\n",
        "\n",
        "dict_hist = history_model_1.history\n",
        "\n",
        "list_ep = [i for i in range(1, 21)]\n",
        "\n",
        "plt.figure(figsize = (8, 8))\n",
        "\n",
        "plt.plot(list_ep, dict_hist['accuracy'], ls = '--', label = 'accuracy')\n",
        "\n",
        "plt.plot(list_ep, dict_hist['val_accuracy'], ls = '--', label = 'val_accuracy')\n",
        "\n",
        "plt.ylabel('Accuracy')\n",
        "\n",
        "plt.xlabel('Epochs')\n",
        "\n",
        "plt.legend()\n",
        "\n",
        "plt.show()\n"
      ]
    },
    {
      "cell_type": "markdown",
      "metadata": {
        "id": "MrR0Yso3Ps_s"
      },
      "source": [
        "Observation:\n",
        "\n",
        "The accuracy is the percentage of correctly classified examples in the training set, while the val_accuracy is the percentage of correctly classified examples in the validation set. This means a high percentage score in both is good but a high percentage score in accuracy and low percentage score in val_accuracy is an indication of overfitting.\n",
        "\n",
        "From the above as epochs increase the accuracy for both training and validation set also increased but the validation set did well than the training set from epoch upwards and even show a slightly higher performance at epoch of 7.5. However, validation performance started dropping beyond this level and at 12.5 epochs validation set stated performaning performing below the training data which shows signs of possible overfitting. Since the validation set recorded the highest performance at around 12 epochs it is recommended that the training stops at that level to avoid overfitting. At that level, accuracy score for both training and validatation set is around 65%.\n",
        "\n"
      ]
    },
    {
      "cell_type": "markdown",
      "metadata": {
        "id": "FGATILD8PwYa"
      },
      "source": [
        "Let's build one meore model with higher complexity and see if we can improve the performance of the model.\n",
        "\n",
        "First, we need to clear the previous model history from the keras backend . Also lets fix the seed again after clearing the backend."
      ]
    },
    {
      "cell_type": "code",
      "execution_count": null,
      "metadata": {
        "id": "TdErgY4NQocV"
      },
      "outputs": [],
      "source": [
        "# Clearing the backend\n",
        "\n",
        "from tensorflow.keras import backend\n",
        "\n",
        "backend.clear_session()"
      ]
    },
    {
      "cell_type": "code",
      "execution_count": null,
      "metadata": {
        "id": "UMjbDirYRO56"
      },
      "outputs": [],
      "source": [
        "# Fixing the seed for random numbers generators\n",
        "\n",
        "np.random.seed(42)\n",
        "\n",
        "import random\n",
        "\n",
        "random.seed(42)\n",
        "\n",
        "tf.random.set_seed(42)"
      ]
    },
    {
      "cell_type": "markdown",
      "metadata": {
        "id": "j2CYlVBfR3cB"
      },
      "source": [
        "Second model Architecture\n",
        "\n",
        "Write a function that returns a sequential model with the following architecture.\n",
        "\n",
        "1. First hidden layer with 256 nodes and the relu activation and the input shape = (1024,) \n",
        "\n",
        "2. Second hidden layer with 128 nodes and relu activation\n",
        "\n",
        "3. Add the dropout layer with the rate equal to 0.2\n",
        "\n",
        "4. Third hidden layer with 64 nodes and relu activation\n",
        "\n",
        "5. Fourth hidden layer with 64 nodes and relu activation\n",
        "\n",
        "6. Fifth hidden layer with 32 nodes and relu activation\n",
        "\n",
        "7. Add the BatchNormalization layer\n",
        "\n",
        "8. Output layer with activation 'softmax' and number of nodes equal to the number of classes, i.e., 10 - compile the model with the loss equal to the categorical_crossentropy, optimizer equal to Adam(learning_rate = 0.0005), and metric equal to accuracy. Do not fit the model here, just return the compile model.\n",
        "\n",
        "9. Call the nn_model_2 function and store the model in the new variable\n",
        "\n",
        "10. Print the summary of the model\n",
        "\n",
        "11. Fit on the train data with validation split of 0.2 , batch size = 128, verbose = 1, and epochs = 30. Store the model history to use later for visualisation.\n",
        "\n",
        "\n",
        "Question 4. Build and train the ANN model as per the above mentioned architecture (10 marks)"
      ]
    },
    {
      "cell_type": "code",
      "execution_count": null,
      "metadata": {
        "id": "wT9wnErGPlE1"
      },
      "outputs": [],
      "source": [
        "# Define the model\n",
        "\n",
        "def nn_model_2():\n",
        "\n",
        "  model=tf.keras.Sequential()\n",
        "\n",
        "  # Add layers as per the architecture mentioned above\n",
        "\n",
        "  model.add(tf.keras.layers.Dense(units = 256, activation = 'relu', input_shape=(1024,)))\n",
        "  model.add(tf.keras.layers.Dense(units = 128, activation = 'relu'))\n",
        "  model.add(tf.keras.layers.Dropout(rate = 0.2))\n",
        "  model.add(tf.keras.layers.Dense(units = 64, activation = 'relu'))\n",
        "  model.add(tf.keras.layers.Dense(units = 64, activation = 'relu'))\n",
        "  model.add(tf.keras.layers.Dense(units = 32, activation = 'relu'))\n",
        "  model.add(tf.keras.layers.BatchNormalization())\n",
        "  model.add(tf.keras.layers.Dense(units = 10, activation = 'softmax'))\n",
        "  model.compile(loss='categorical_crossentropy', optimizer=tf.keras.optimizers.Adam(learning_rate = 0.0005), metrics=['accuracy'])\n",
        "  return model\n"
      ]
    },
    {
      "cell_type": "code",
      "execution_count": null,
      "metadata": {
        "id": "4Jsksc5teO8X"
      },
      "outputs": [],
      "source": [
        "# Build the model\n",
        "\n",
        "model_2 = nn_model_2()"
      ]
    },
    {
      "cell_type": "code",
      "execution_count": null,
      "metadata": {
        "colab": {
          "base_uri": "https://localhost:8080/"
        },
        "id": "UXBgzYh-mLUJ",
        "outputId": "73fba07e-084c-4107-9d31-3018beca80e4"
      },
      "outputs": [
        {
          "output_type": "stream",
          "name": "stdout",
          "text": [
            "Model: \"sequential\"\n",
            "_________________________________________________________________\n",
            " Layer (type)                Output Shape              Param #   \n",
            "=================================================================\n",
            " dense (Dense)               (None, 256)               262400    \n",
            "                                                                 \n",
            " dense_1 (Dense)             (None, 128)               32896     \n",
            "                                                                 \n",
            " dropout (Dropout)           (None, 128)               0         \n",
            "                                                                 \n",
            " dense_2 (Dense)             (None, 64)                8256      \n",
            "                                                                 \n",
            " dense_3 (Dense)             (None, 64)                4160      \n",
            "                                                                 \n",
            " dense_4 (Dense)             (None, 32)                2080      \n",
            "                                                                 \n",
            " batch_normalization (BatchN  (None, 32)               128       \n",
            " ormalization)                                                   \n",
            "                                                                 \n",
            " dense_5 (Dense)             (None, 10)                330       \n",
            "                                                                 \n",
            "=================================================================\n",
            "Total params: 310,250\n",
            "Trainable params: 310,186\n",
            "Non-trainable params: 64\n",
            "_________________________________________________________________\n"
          ]
        }
      ],
      "source": [
        "# Print the summary of the model\n",
        "\n",
        "model_2.summary()"
      ]
    },
    {
      "cell_type": "code",
      "execution_count": null,
      "metadata": {
        "colab": {
          "base_uri": "https://localhost:8080/"
        },
        "id": "vv-umnD1nPmT",
        "outputId": "830b950f-4118-4211-f6b1-a6b400d0775f"
      },
      "outputs": [
        {
          "output_type": "stream",
          "name": "stdout",
          "text": [
            "Epoch 1/30\n",
            "263/263 [==============================] - 3s 8ms/step - loss: 2.3427 - accuracy: 0.1067 - val_loss: 2.2755 - val_accuracy: 0.1338\n",
            "Epoch 2/30\n",
            "263/263 [==============================] - 3s 10ms/step - loss: 2.0884 - accuracy: 0.2237 - val_loss: 1.9488 - val_accuracy: 0.3358\n",
            "Epoch 3/30\n",
            "263/263 [==============================] - 2s 8ms/step - loss: 1.6737 - accuracy: 0.4104 - val_loss: 1.5640 - val_accuracy: 0.4537\n",
            "Epoch 4/30\n",
            "263/263 [==============================] - 2s 8ms/step - loss: 1.4281 - accuracy: 0.5135 - val_loss: 1.2734 - val_accuracy: 0.5836\n",
            "Epoch 5/30\n",
            "263/263 [==============================] - 2s 7ms/step - loss: 1.2631 - accuracy: 0.5847 - val_loss: 1.1498 - val_accuracy: 0.6393\n",
            "Epoch 6/30\n",
            "263/263 [==============================] - 2s 7ms/step - loss: 1.1554 - accuracy: 0.6279 - val_loss: 1.1232 - val_accuracy: 0.6418\n",
            "Epoch 7/30\n",
            "263/263 [==============================] - 2s 7ms/step - loss: 1.1012 - accuracy: 0.6503 - val_loss: 1.0485 - val_accuracy: 0.6685\n",
            "Epoch 8/30\n",
            "263/263 [==============================] - 2s 8ms/step - loss: 1.0493 - accuracy: 0.6643 - val_loss: 0.9689 - val_accuracy: 0.6962\n",
            "Epoch 9/30\n",
            "263/263 [==============================] - 2s 7ms/step - loss: 1.0003 - accuracy: 0.6844 - val_loss: 0.9379 - val_accuracy: 0.7017\n",
            "Epoch 10/30\n",
            "263/263 [==============================] - 2s 8ms/step - loss: 0.9679 - accuracy: 0.6919 - val_loss: 0.9584 - val_accuracy: 0.6940\n",
            "Epoch 11/30\n",
            "263/263 [==============================] - 2s 7ms/step - loss: 0.9318 - accuracy: 0.7057 - val_loss: 0.8974 - val_accuracy: 0.7148\n",
            "Epoch 12/30\n",
            "263/263 [==============================] - 2s 7ms/step - loss: 0.9174 - accuracy: 0.7095 - val_loss: 0.8473 - val_accuracy: 0.7329\n",
            "Epoch 13/30\n",
            "263/263 [==============================] - 2s 7ms/step - loss: 0.9078 - accuracy: 0.7128 - val_loss: 0.9239 - val_accuracy: 0.6981\n",
            "Epoch 14/30\n",
            "263/263 [==============================] - 2s 7ms/step - loss: 0.8735 - accuracy: 0.7242 - val_loss: 0.8362 - val_accuracy: 0.7374\n",
            "Epoch 15/30\n",
            "263/263 [==============================] - 2s 7ms/step - loss: 0.8690 - accuracy: 0.7245 - val_loss: 0.8605 - val_accuracy: 0.7308\n",
            "Epoch 16/30\n",
            "263/263 [==============================] - 2s 7ms/step - loss: 0.8467 - accuracy: 0.7320 - val_loss: 0.8774 - val_accuracy: 0.7282\n",
            "Epoch 17/30\n",
            "263/263 [==============================] - 2s 7ms/step - loss: 0.8395 - accuracy: 0.7335 - val_loss: 0.8024 - val_accuracy: 0.7518\n",
            "Epoch 18/30\n",
            "263/263 [==============================] - 2s 7ms/step - loss: 0.8171 - accuracy: 0.7396 - val_loss: 0.8498 - val_accuracy: 0.7332\n",
            "Epoch 19/30\n",
            "263/263 [==============================] - 2s 7ms/step - loss: 0.8097 - accuracy: 0.7440 - val_loss: 0.8054 - val_accuracy: 0.7470\n",
            "Epoch 20/30\n",
            "263/263 [==============================] - 2s 8ms/step - loss: 0.7947 - accuracy: 0.7476 - val_loss: 0.8047 - val_accuracy: 0.7473\n",
            "Epoch 21/30\n",
            "263/263 [==============================] - 2s 7ms/step - loss: 0.7949 - accuracy: 0.7468 - val_loss: 0.8186 - val_accuracy: 0.7460\n",
            "Epoch 22/30\n",
            "263/263 [==============================] - 2s 7ms/step - loss: 0.7978 - accuracy: 0.7486 - val_loss: 0.8043 - val_accuracy: 0.7389\n",
            "Epoch 23/30\n",
            "263/263 [==============================] - 2s 7ms/step - loss: 0.7808 - accuracy: 0.7516 - val_loss: 0.8088 - val_accuracy: 0.7467\n",
            "Epoch 24/30\n",
            "263/263 [==============================] - 2s 7ms/step - loss: 0.7686 - accuracy: 0.7561 - val_loss: 0.7899 - val_accuracy: 0.7610\n",
            "Epoch 25/30\n",
            "263/263 [==============================] - 2s 7ms/step - loss: 0.7678 - accuracy: 0.7563 - val_loss: 0.7713 - val_accuracy: 0.7563\n",
            "Epoch 26/30\n",
            "263/263 [==============================] - 2s 7ms/step - loss: 0.7578 - accuracy: 0.7602 - val_loss: 0.7959 - val_accuracy: 0.7523\n",
            "Epoch 27/30\n",
            "263/263 [==============================] - 2s 7ms/step - loss: 0.7404 - accuracy: 0.7650 - val_loss: 0.7557 - val_accuracy: 0.7662\n",
            "Epoch 28/30\n",
            "263/263 [==============================] - 2s 7ms/step - loss: 0.7405 - accuracy: 0.7646 - val_loss: 0.7896 - val_accuracy: 0.7533\n",
            "Epoch 29/30\n",
            "263/263 [==============================] - 2s 7ms/step - loss: 0.7242 - accuracy: 0.7698 - val_loss: 0.7568 - val_accuracy: 0.7631\n",
            "Epoch 30/30\n",
            "263/263 [==============================] - 2s 8ms/step - loss: 0.7121 - accuracy: 0.7730 - val_loss: 0.7137 - val_accuracy: 0.7777\n"
          ]
        }
      ],
      "source": [
        "# Fit the model on the train data\n",
        "\n",
        "history_model_2 = model_2.fit(X_train, y_train, validation_split = 0.2, batch_size = 128, verbose = 1, epochs = 30)"
      ]
    },
    {
      "cell_type": "markdown",
      "source": [
        "Ploting the validation and training accuracies.\n",
        "\n",
        "Question 5. Write your observation on the below plot. (2 marks)"
      ],
      "metadata": {
        "id": "wPTx9vp4ec8U"
      }
    },
    {
      "cell_type": "code",
      "source": [
        "dict_hist = history_model_2.history\n",
        "\n",
        "list_ep = [i for i in range(1, 31)]\n",
        "\n",
        "plt.figure(figsize = (8, 8))\n",
        "\n",
        "plt.plot(list_ep, dict_hist['accuracy'], ls = '--', label = 'val_accuracy')\n",
        "\n",
        "plt.plot(list_ep, dict_hist['val_accuracy'], ls = '--', label = 'val_accuracy')\n",
        "\n",
        "plt.ylabel('Accuracy')\n",
        "\n",
        "plt.xlabel('Epochs')\n",
        "\n",
        "plt.legend()\n",
        "\n",
        "plt.show()\n",
        "\n"
      ],
      "metadata": {
        "colab": {
          "base_uri": "https://localhost:8080/",
          "height": 497
        },
        "id": "KpyACnZ_iGGj",
        "outputId": "d819cb91-0d7a-43f7-d990-a57b68261745"
      },
      "execution_count": null,
      "outputs": [
        {
          "output_type": "display_data",
          "data": {
            "text/plain": [
              "<Figure size 576x576 with 1 Axes>"
            ],
            "image/png": "[encoded data removed]"
          },
          "metadata": {
            "needs_background": "light"
          }
        }
      ]
    },
    {
      "cell_type": "markdown",
      "source": [
        "Observation:\n",
        "\n",
        "The accuracy performance of both the training and validation sets seem to be performing at the same level with minimum variable between them. At the every epochs through to epoch at 12 the validation set has consistently performan better than the training set in terms of accuracy. However, validation performed below the training set at epochs 13, 18, 23. In all perform level is around 75% for both dataset. "
      ],
      "metadata": {
        "id": "Lu17aYjboVl1"
      }
    },
    {
      "cell_type": "markdown",
      "source": [
        "Predictions on the test data\n",
        "\n",
        "1. Make predictions on the test data using the second model.\n",
        "\n",
        "2. Print the obtained result using the classification report and the confusion matrix.\n",
        "\n",
        "3. Final observations on the obtained result"
      ],
      "metadata": {
        "id": "J7MFdw7-oYuT"
      }
    },
    {
      "cell_type": "code",
      "source": [
        "test_pred = model_2.predict(X_test)\n",
        "\n",
        "test_pred = np.argmax(test_pred, axis = -1)"
      ],
      "metadata": {
        "colab": {
          "base_uri": "https://localhost:8080/"
        },
        "id": "gp0hmzBxo-dE",
        "outputId": "79da2080-4f48-443d-825d-df738a17336f"
      },
      "execution_count": null,
      "outputs": [
        {
          "output_type": "stream",
          "name": "stdout",
          "text": [
            "563/563 [==============================] - 1s 2ms/step\n"
          ]
        }
      ]
    },
    {
      "cell_type": "markdown",
      "source": [
        "Note: Earlier, we noticed that each entry of the target variable is one-hot encoded vector but each entry of y_test to a single label."
      ],
      "metadata": {
        "id": "wkZHgpAopmLU"
      }
    },
    {
      "cell_type": "code",
      "source": [
        "y_test = np.argmax(y_test, axis = -1)"
      ],
      "metadata": {
        "id": "Ny7WwWspqN8R"
      },
      "execution_count": null,
      "outputs": []
    },
    {
      "cell_type": "code",
      "source": [
        "from sklearn.metrics import classification_report\n",
        "\n",
        "from sklearn.metrics import confusion_matrix\n",
        "\n",
        "print(classification_report(y_test, test_pred))\n",
        "\n",
        "cm = confusion_matrix(y_test, test_pred)\n",
        "\n",
        "plt.figure(figsize = (8, 5))\n",
        "\n",
        "sns.heatmap(cm, annot = True, fmt = '.0f')\n",
        "\n",
        "plt.ylabel('Actual')\n",
        "\n",
        "plt.xlabel('Predicted')\n",
        "\n",
        "plt.show()"
      ],
      "metadata": {
        "colab": {
          "base_uri": "https://localhost:8080/",
          "height": 635
        },
        "id": "8htbAdHzqfy1",
        "outputId": "14574179-4435-4c4a-9b5b-da31cd408f0c"
      },
      "execution_count": null,
      "outputs": [
        {
          "output_type": "stream",
          "name": "stdout",
          "text": [
            "              precision    recall  f1-score   support\n",
            "\n",
            "           0       0.90      0.74      0.81      1814\n",
            "           1       0.75      0.82      0.78      1828\n",
            "           2       0.78      0.80      0.79      1803\n",
            "           3       0.72      0.74      0.73      1719\n",
            "           4       0.79      0.85      0.82      1812\n",
            "           5       0.71      0.76      0.74      1768\n",
            "           6       0.79      0.75      0.77      1832\n",
            "           7       0.85      0.79      0.82      1808\n",
            "           8       0.69      0.76      0.73      1812\n",
            "           9       0.79      0.74      0.76      1804\n",
            "\n",
            "    accuracy                           0.78     18000\n",
            "   macro avg       0.78      0.78      0.78     18000\n",
            "weighted avg       0.78      0.78      0.78     18000\n",
            "\n"
          ]
        },
        {
          "output_type": "display_data",
          "data": {
            "text/plain": [
              "<Figure size 576x360 with 2 Axes>"
            ],
            "image/png": "[encoded data removed]"
          },
          "metadata": {
            "needs_background": "light"
          }
        }
      ]
    },
    {
      "cell_type": "markdown",
      "source": [
        "Final observation:\n",
        "\n",
        "Overall, the model looks moderate with accuracy performance of 78%. Precision ranges between 69% to 90%, recall also ranges between 85% and 74% and f1 score is between 82% and 73%. As mentioned above, the performance level of this model is moderate and there is more room for improvement with other modules like convolution neural networks.\n",
        "\n",
        "The predicts errors among the digits is high for 7, 5, 8 and 6 and this should be improved."
      ],
      "metadata": {
        "id": "wC6Yn9QwsaYG"
      }
    }
  ],
  "metadata": {
    "colab": {
      "provenance": [],
      "authorship_tag": "ABX9TyNjIYHGwDpuOBr9NsOOWNiO",
      "include_colab_link": true
    },
    "kernelspec": {
      "display_name": "Python 3",
      "name": "python3"
    },
    "language_info": {
      "name": "python"
    }
  },
  "nbformat": 4,
  "nbformat_minor": 0
}